{
 "cells": [
  {
   "cell_type": "markdown",
   "metadata": {},
   "source": [
    "# Reddit API Query"
   ]
  },
  {
   "cell_type": "code",
   "execution_count": 13,
   "metadata": {},
   "outputs": [],
   "source": [
    "import requests\n",
    "import pandas as pd\n",
    "import datetime as dt\n",
    "import time\n",
    "import pickle\n",
    "pd.set_option('display.max_columns', None)"
   ]
  },
  {
   "cell_type": "markdown",
   "metadata": {},
   "source": [
    "__I'll be pulling data from two Reddit threads for this project:__\n",
    "\n",
    "-[raisedbynarcissits](https://www.reddit.com/r/raisedbynarcissists): \"This is a support group for people raised by (or being raised by) a narcissistic parent. Please share your stories, your questions, your histories, your fears and your triumphs. Significant others and friends are all welcome.\"\n",
    "\n",
    "-[LifeAfterNarcissism](https://www.reddit.com/r/LifeAfterNarcissism): \"A place for those who are moving on from narcissistic family or relationship dynamics.\""
   ]
  },
  {
   "cell_type": "markdown",
   "metadata": {},
   "source": [
    "### 1. Query Reddit"
   ]
  },
  {
   "cell_type": "code",
   "execution_count": 2,
   "metadata": {},
   "outputs": [],
   "source": [
    "# custom function to query reddit multiple times\n",
    "# this code is adapted from Hovanes's codes that he shared in class\n",
    "\n",
    "def reddit_query(subreddit, n_samples):\n",
    "    base_url = 'https://api.pushshift.io/reddit/submission/search' # base url for api\n",
    "    list_posts = []\n",
    "    oldest_post = None\n",
    "    \n",
    "    while len(list_posts) < n_samples: # n_samples exceeds the reddit api limit of 1000\n",
    "        params = {\n",
    "            \"subreddit\" : subreddit,\n",
    "            \"size\" : 1000,\n",
    "            \"before\": oldest_post # a time stamp to set when to start pulling posts\n",
    "            }  \n",
    "            \n",
    "        res = requests.get(base_url,params) # request reddit info\n",
    "            \n",
    "        posts = res.json()['data'] # create list from json\n",
    "        \n",
    "        if len(posts) == 0:\n",
    "            oldest_post = None # for the first time running this, before will be None\n",
    "            list_posts.extend(posts) # add batch of posts to list_posts     \n",
    "        else:\n",
    "            time.sleep(3) # wait 3 seconds before querying again\n",
    "            oldest_post = dt.datetime.fromtimestamp(posts[-1][\"created_utc\"]) # take the oldest time from the list and pull posts before that time\n",
    "            list_posts.extend(posts) # add batch of posts to list_posts\n",
    "    return pd.DataFrame(list_posts) # return pandas dataframe"
   ]
  },
  {
   "cell_type": "markdown",
   "metadata": {},
   "source": [
    "### Pull data for reddit threads:"
   ]
  },
  {
   "cell_type": "code",
   "execution_count": 3,
   "metadata": {},
   "outputs": [],
   "source": [
    "rbn = reddit_query(\"raisedbynarcissists\", 10_000)"
   ]
  },
  {
   "cell_type": "code",
   "execution_count": 5,
   "metadata": {},
   "outputs": [],
   "source": [
    "lan = reddit_query(\"LifeAfterNarcissism\", 10_000)"
   ]
  },
  {
   "cell_type": "markdown",
   "metadata": {},
   "source": [
    "### 2. Pickle for later use "
   ]
  },
  {
   "cell_type": "code",
   "execution_count": 14,
   "metadata": {},
   "outputs": [],
   "source": [
    "pickle.dump(lan, open(\"../assets/lan.pkl\", \"wb\"))"
   ]
  },
  {
   "cell_type": "code",
   "execution_count": 15,
   "metadata": {},
   "outputs": [],
   "source": [
    "pickle.dump(rbn, open(\"../assets/rbn.pkl\", \"wb\"))"
   ]
  }
 ],
 "metadata": {
  "kernelspec": {
   "display_name": "Python 3",
   "language": "python",
   "name": "python3"
  },
  "language_info": {
   "codemirror_mode": {
    "name": "ipython",
    "version": 3
   },
   "file_extension": ".py",
   "mimetype": "text/x-python",
   "name": "python",
   "nbconvert_exporter": "python",
   "pygments_lexer": "ipython3",
   "version": "3.7.4"
  }
 },
 "nbformat": 4,
 "nbformat_minor": 2
}
